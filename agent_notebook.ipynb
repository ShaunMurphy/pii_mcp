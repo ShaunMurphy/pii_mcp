{
    "cells": [
        {
            "cell_type": "markdown",
            "metadata": {},
            "source": [
                "# FastMCP Agent Databricks Notebook\n",
                "\n",
                "This notebook demonstrates how to connect to a FastMCP server, list available tools, and invoke them using the agent pattern. It is designed for Databricks environments."
            ]
        },
        {
            "cell_type": "code",
            "metadata": {},
            "source": [
                "# Databricks: Install dependencies (run once per cluster)\n",
                "# %pip install langchain-mcp-adapters langgraph langchain langchain-openai openai python-dotenv mlflow"
            ]
        },
        {
            "cell_type": "code",
            "metadata": {},
            "source": [
                "import os\n",
                "import asyncio\n",
                "import logging\n",
                "from dotenv import load_dotenv\n",
                "from langchain_mcp_adapters.client import MultiServerMCPClient\n",
                "from langgraph.prebuilt import create_react_agent\n",
                "from langchain.chat_models import init_chat_model\n",
                "\n",
                "# Load environment variables from Databricks secrets or .env if running locally\n",
                "load_dotenv()\n",
                "logging.basicConfig(level=logging.INFO, format='%(asctime)s %(levelname)s %(message)s')"
            ]
        },
        {
            "cell_type": "code",
            "metadata": {},
            "source": [
                "# Databricks: Set secrets as environment variables (example)\n",
                "# dbutils.widgets.text('FASTMCP_URL', '')\n",
                "# os.environ['FASTMCP_URL'] = dbutils.widgets.get('FASTMCP_URL')\n",
                "# os.environ['AZURE_OPENAI_MODEL'] = dbutils.secrets.get(scope='my-scope', key='AZURE_OPENAI_MODEL')\n",
                "# os.environ['AZURE_OPENAI_API_KEY'] = dbutils.secrets.get(scope='my-scope', key='AZURE_OPENAI_API_KEY')\n",
                "# os.environ['AZURE_OPENAI_ENDPOINT'] = dbutils.secrets.get(scope='my-scope', key='AZURE_OPENAI_ENDPOINT')\n",
                "# os.environ['AZURE_OPENAI_API_VERSION'] = dbutils.secrets.get(scope='my-scope', key='AZURE_OPENAI_API_VERSION')"
            ]
        },
        {
            "cell_type": "code",
            "metadata": {},
            "source": [
                "async def list_and_test_tools():\n",
                "    fastmcp_url = os.getenv('FASTMCP_URL', 'http://localhost:8000/mcp')\n",
                "    logging.info(f'Connecting to FastMCP server at {fastmcp_url}')\n",
                "    client = MultiServerMCPClient({\n",
                "        'sfmc': {\n",
                "            'url': fastmcp_url,\n",
                "            'transport': 'streamable_http',\n",
                "        }\n",
                "    })\n",
                "    try:\n",
                "        tools = await client.get_tools()\n",
                "        print('Available tools:')\n",
                "        for tool in tools:\n",
                "            print(f'- {tool.name}: {getattr(tool, \"description\", \"\")}')\n",
                "        # Try invoking each tool\n",
                "        for tool in tools:\n",
                "            args = {}\n",
                "            if tool.name == 'demo_echo':\n",
                "                args = {'input': 'test input'}\n",
                "            print(f'Invoking {tool.name}...')\n",
                "            try:\n",
                "                result = await tool.ainvoke(args)\n",
                "                print(f'Result from {tool.name}: {result}')\n",
                "            except Exception as e:\n",
                "                print(f'Error invoking {tool.name}: {e}')\n",
                "    except Exception as e:\n",
                "        print(f'Failed to connect or list tools: {e}')"
            ]
        },
        {
            "cell_type": "code",
            "metadata": {},
            "source": [
                "# Databricks: Run the async agent logic\n",
                "await list_and_test_tools()"
            ]
        }
    ],
    "metadata": {
        "kernelspec": {
            "display_name": "Python 3",
            "language": "python",
            "name": "python3"
        },
        "language_info": {
            "name": "python"
        }
    },
    "nbformat": 4,
    "nbformat_minor": 5
}